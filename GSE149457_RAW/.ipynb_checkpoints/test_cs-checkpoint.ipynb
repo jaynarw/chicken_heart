{
 "cells": [
  {
   "cell_type": "code",
   "execution_count": 1,
   "metadata": {},
   "outputs": [],
   "source": [
    "import h5py\n",
    "import scanpy\n",
    "import numpy as np"
   ]
  },
  {
   "cell_type": "code",
   "execution_count": 2,
   "metadata": {},
   "outputs": [
    {
     "name": "stderr",
     "output_type": "stream",
     "text": [
      "Variable names are not unique. To make them unique, call `.var_names_make_unique`.\n",
      "Variable names are not unique. To make them unique, call `.var_names_make_unique`.\n"
     ]
    }
   ],
   "source": [
    "z = scanpy.read_10x_h5('GSM4502475_chicken_heart_scRNAseq_D4_filtered_feature_bc_matrix.h5')"
   ]
  },
  {
   "cell_type": "code",
   "execution_count": 3,
   "metadata": {},
   "outputs": [],
   "source": [
    "f = h5py.File('GSM4502475_chicken_heart_scRNAseq_D4_filtered_feature_bc_matrix.h5','r')"
   ]
  },
  {
   "cell_type": "code",
   "execution_count": 4,
   "metadata": {},
   "outputs": [
    {
     "name": "stdout",
     "output_type": "stream",
     "text": [
      "matrix\n",
      "####################\n",
      "barcodes\n",
      "data\n",
      "features\n",
      "indices\n",
      "indptr\n",
      "shape\n"
     ]
    }
   ],
   "source": [
    "for key in f.keys():\n",
    "    print(key) #Names of the groups in HDF5 file.\n",
    "print(\"####################\")   \n",
    "group = f[key]\n",
    "\n",
    "#Checkout what keys are inside that group.\n",
    "for key in group.keys():\n",
    "    print(key)\n",
    "    "
   ]
  },
  {
   "cell_type": "code",
   "execution_count": 5,
   "metadata": {},
   "outputs": [
    {
     "name": "stdout",
     "output_type": "stream",
     "text": [
      "\n",
      "indices\n",
      "[24210 24199 23908 ...   118   110    86] (9542685,)\n",
      "[16366 16356 16345 16344 16343 16339 16331 16330 16329 16321 16314 16308\n",
      " 16298 16296 16292 16290 16280 16268 16215 16196 16194 16185 16175 16174\n",
      " 16173 16172 16159 16157 16143 16140 16136 16135 16128 16123 16109 16101\n",
      " 16099 16092 16091 16085 16084 16082 16078 16076 16065 16048 16038 16032\n",
      " 16031 16019 16018 16014 16006 15959 15958 15955 15938 15937 15934 15915\n",
      " 15912 15905 15904 15855 15847 15845 15844 15840 15827 15800 15797 15788\n",
      " 15780 15769 15766 15763 15761 15759 15744 15740 15739 15738 15718 15714\n",
      " 15707 15696 15690 15685 15679 15670 15631 15630 15605 15604 15535 15517\n",
      " 15515 15500 15475 15470 15461 15460 15455 15454 15447 15405 15392 15391\n",
      " 15390 15389 15386 15378 15373 15372 15366 15364 15361 15346 15325 15321\n",
      " 15318 15316 15281 15279 15275 15273 15260 15208 15205 15203 15186 15177\n",
      " 15173 15160 15157 15155 15145 15141 15079 15078 15075 15041 15039 15038\n",
      " 15029 15016 15007 14987 14976 14974 14950 14943 14937 14936 14927 14861\n",
      " 14854 14828 14825 14819 14809 14797 14779 14769 14735 14734 14724 14710\n",
      " 14703 14693 14673 14670 14666 14631 14623 14596 14593 14571 14537 14527\n",
      " 14505 14500 14494 14489 14478 14476 14455 14410 14409 14407 14399 14396\n",
      " 14391 14389 14384 14383 14374 14370 14368 14334 14329 14318 14303 14301\n",
      " 14299 14290 14288 14287 14285 14276 14271 14264 14263 14260 14245 14239\n",
      " 14201 14191 14187 14158 14154 14149 14143 14136 14133 14128 14115 14093\n",
      " 14064 14061 14032 14007 14004 13965 13948 13945 13944 13922 13913 13907\n",
      " 13866 13864 13816 13771 13752 13741 13724 13697 13660 13657 13656 13651\n",
      " 13646 13628 13570 13558 13538 13530 13520 13516 13510 13509 13490 13478\n",
      " 13476 13456 13409 13405 13402 13361 13304 13285 13276 13270 13251 13243\n",
      " 13230 13217 13181 13174 13173 13171 13152 13145 13140 13133 13126 13101\n",
      " 13050 13036 13029 13008 12995 12986 12984 12980 12890 12880 12873 12866\n",
      " 12819 12818 12816 12797 12781 12779 12760 12747 12735 12718 12683 12667\n",
      " 12665 12657 12629 12607 12543 12538 12515 12502 12491 12476 12471 12464\n",
      " 12457 12412 12407 12396 12390 12380 12374 12367 12364 12361 12355 12343\n",
      " 12342 12341 12338 12337 12302 12284 12279 12237 12215 12213 12204 12194\n",
      " 12192 12179 12146 12143 12133 12124 12117 12105 12099 12091 12054 12053\n",
      " 12044 12043 12021 11952 11926 11916 11912 11903 11897 11895 11892 11891\n",
      " 11848 11833 11803 11800 11792 11790 11777 11773 11725 11720 11702 11693\n",
      " 11688 11683 11676 11673 11672 11661 11656 11645 11644 11630 11626 11618\n",
      " 11616 11605 11603 11597 11565 11560 11543 11520 11514 11513 11511 11508\n",
      " 11494 11492 11489 11474 11472 11462 11459 11449 11439 11434 11433 11406\n",
      " 11405 11401 11396 11376 11347 11344 11343 11316 11273 11272 11271 11266\n",
      " 11249 11248 11240 11231 11229 11227 11222 11218 11203 11201 11192 11179\n",
      " 11164 11159 11156 11145 11130 11106 11095 11069 11065 11036 11034 11027\n",
      " 11024 11010 11008 11000 10985 10948 10900 10894 10891 10887 10827 10819\n",
      " 10813 10796 10795 10789 10784 10775 10772 10769 10766 10761 10713 10610\n",
      " 10605 10602 10587 10570 10563 10562 10561 10517 10514 10505 10503 10491\n",
      " 10490 10463 10453 10434 10392 10362 10344 10331 10307 10305 10295 10294\n",
      " 10273 10217 10204 10202 10153 10141 10105 10062 10042 10024  9979  9978\n",
      "  9977  9961  9937  9923  9913  9894  9888  9868  9867  9847  9841  9822\n",
      "  9792  9773  9757  9741  9736  9709  9685  9673  9656  9639  9635  9624\n",
      "  9620  9555  9545  9528  9526  9519  9511  9507  9506  9480  9479  9474\n",
      "  9464  9453  9419  9388  9359  9358  9317  9316  9299  9279  9278  9266\n",
      "  9244  9209  9139  9137  9136  9131  9107  9101  9100  9098  9053  9043\n",
      "  9038  9036  9010  8970  8915  8877  8876  8863  8811  8764  8763  8679\n",
      "  8677  8675  8643  8608  8606  8604  8603  8558  8534  8499  8470  8463\n",
      "  8454  8450  8449  8421  8419  8400  8397  8391  8385  8357  8335  8324\n",
      "  8296  8293  8243  8193  8157  8142  8121  8110  8100  8099  8095  8094\n",
      "  8093  8091  8085  8074  8056  8055  8051  8020  8018  8011  7984  7965\n",
      "  7918  7873  7872  7811  7788  7769  7766  7756  7751  7746  7744  7739\n",
      "  7732  7726  7718  7711  7706  7705  7699  7689  7680  7637  7625  7575\n",
      "  7540  7505  7493  7470  7468  7467  7462  7452  7440  7400  7395  7383\n",
      "  7358  7355  7354  7347  7342  7339  7336  7335  7296  7272  7224  7219\n",
      "  7195  7193  7190  7177  7157  7151  7148  7127  7116  7098  7090  7059\n",
      "  7051  7048  7022  7018  6994  6980  6977  6976  6944  6934  6929  6898\n",
      "  6876  6859  6858  6842  6802  6796  6794  6750  6738  6685  6664  6645\n",
      "  6641  6629  6585  6582  6546  6540  6539  6527  6495  6465  6455  6453\n",
      "  6435  6412  6392  6389  6382  6338  6332  6324  6318  6313  6311  6310\n",
      "  6287  6276  6263  6262  6256  6245  6244  6242  6226  6223  6201  6199\n",
      "  6163  6123  6113  6098  6097  6096  6055  6052  6048  6047  6024  6019\n",
      "  6017  6013  6012  6007  5984  5983  5978  5976  5971  5969  5956  5949\n",
      "  5948  5944  5936  5935  5922  5874  5867  5863  5845  5833  5822  5818\n",
      "  5810  5795  5754  5746  5745  5737  5736  5702  5696  5688  5686  5683\n",
      "  5680  5657  5642  5641  5594  5553  5505  5441  5427  5420  5418  5395\n",
      "  5372  5367  5354  5351  5341  5325  5321  5313  5312  5295  5289  5286\n",
      "  5276  5257  5252  5247  5233  5228  5225  5217  5184  5180  5178  5136\n",
      "  5099  5086  5080  5075  5025  4957  4940  4935  4934  4932  4929  4921\n",
      "  4917  4914  4886  4881  4794  4784  4759  4758  4716  4708  4607  4603\n",
      "  4579  4460  4459  4458  4435  4429  4401  4392  4390  4385  4369  4354\n",
      "  4352  4295  4249  4243  4238  4224  4212  4203  4197  4183  4165  4134\n",
      "  4131  4106  4103  4102  4095  4085  4052  4047  4033  4031  4017  4004\n",
      "  3998  3941  3918  3915  3914  3908  3905  3897  3880  3859  3841  3840\n",
      "  3839  3816  3815  3803  3798  3789  3788  3783  3763  3760  3756  3753\n",
      "  3745  3732  3714  3709  3666  3651  3628  3622  3612  3596  3585  3549\n",
      "  3542  3482  3469  3452  3439  3437  3434  3393  3384  3357  3354  3352\n",
      "  3337  3332  3318  3313  3312  3309  3299  3279  3239  3200  3163  3158\n",
      "  3129  3116  3102  3066  3065  3030  3023  3022  3018  3012  3001  2989\n",
      "  2985  2984  2983  2974  2966  2963  2954  2952  2940  2929  2926  2864\n",
      "  2859  2831  2808  2795  2793  2790  2761  2735  2677  2674  2614  2591\n",
      "  2563  2544  2492  2490]\n",
      "\n",
      "shape\n",
      "[24356  7755] (2,)\n",
      "[24356  7755]\n",
      "\n",
      "indptr\n",
      "[      0     576     899 ... 9539198 9541193 9542685] (7756,)\n",
      "[    0   576   899  1080  1993  3281  4867  5207  5593  6229  8466  9204\n",
      "  9399  9593 10066 12617 14480 16777 16938 17645 18272 19172 19315 21678\n",
      " 22011]\n",
      "\n",
      "barcodes\n",
      "[b'AAACCCAAGCTAAACA-1' b'AAACCCACAAATCAAG-1' b'AAACCCACAACGGGTA-1' ...\n",
      " b'TTTGTTGGTGTTATCG-1' b'TTTGTTGGTTACACAC-1' b'TTTGTTGTCCATTGCC-1'] (7755,)\n",
      "[b'AAACCCAAGCTAAACA-1' b'AAACCCACAAATCAAG-1' b'AAACCCACAACGGGTA-1'\n",
      " b'AAACCCACACCACTGG-1' b'AAACCCACACTCCGGA-1' b'AAACCCACACTTACAG-1'\n",
      " b'AAACCCACATCTTTCA-1' b'AAACCCACATGAATAG-1' b'AAACCCAGTAGCGCCT-1'\n",
      " b'AAACCCATCCGACGGT-1' b'AAACGAAAGCACTGGA-1' b'AAACGAAAGCGTTCAT-1'\n",
      " b'AAACGAAAGCTAGAAT-1' b'AAACGAAAGGACGGAG-1' b'AAACGAACAAAGCTAA-1'\n",
      " b'AAACGAACAATAGTCC-1' b'AAACGAACAATTCGTG-1' b'AAACGAACAGCAATTC-1'\n",
      " b'AAACGAACATGCCGGT-1' b'AAACGAAGTACGACTT-1' b'AAACGAAGTCTTGCTC-1'\n",
      " b'AAACGAAGTGATACTC-1' b'AAACGAAGTGCCCAGT-1' b'AAACGAATCCCTTCCC-1'\n",
      " b'AAACGAATCCTTATGT-1']\n",
      "\n",
      "data\n",
      "[1 2 1 ... 1 4 1] (9542685,)\n",
      "[1 2 1 1 1 2 1 3 3 1 1 1 1 1 1 1 1 4 1 1 2 2 1 2 1]\n",
      "188880780\n"
     ]
    },
    {
     "ename": "AttributeError",
     "evalue": "'tuple' object has no attribute 'encode'",
     "output_type": "error",
     "traceback": [
      "\u001b[0;31m---------------------------------------------------------------------------\u001b[0m",
      "\u001b[0;31mAttributeError\u001b[0m                            Traceback (most recent call last)",
      "\u001b[0;32m<ipython-input-5-b9481207aedc>\u001b[0m in \u001b[0;36m<module>\u001b[0;34m\u001b[0m\n\u001b[1;32m     26\u001b[0m \u001b[0mprint\u001b[0m\u001b[0;34m(\u001b[0m\u001b[0;36m24356\u001b[0m\u001b[0;34m*\u001b[0m\u001b[0;36m7755\u001b[0m\u001b[0;34m)\u001b[0m\u001b[0;34m\u001b[0m\u001b[0;34m\u001b[0m\u001b[0m\n\u001b[1;32m     27\u001b[0m \u001b[0;34m\u001b[0m\u001b[0m\n\u001b[0;32m---> 28\u001b[0;31m \u001b[0mdata\u001b[0m \u001b[0;34m=\u001b[0m \u001b[0mnp\u001b[0m\u001b[0;34m.\u001b[0m\u001b[0marray\u001b[0m\u001b[0;34m(\u001b[0m\u001b[0mgroup\u001b[0m\u001b[0;34m[\u001b[0m\u001b[0;34m'features'\u001b[0m\u001b[0;34m]\u001b[0m\u001b[0;34m[\u001b[0m\u001b[0;34m(\u001b[0m\u001b[0;34m)\u001b[0m\u001b[0;34m]\u001b[0m\u001b[0;34m)\u001b[0m\u001b[0;34m\u001b[0m\u001b[0;34m\u001b[0m\u001b[0m\n\u001b[0m\u001b[1;32m     29\u001b[0m \u001b[0mprint\u001b[0m\u001b[0;34m(\u001b[0m\u001b[0;34m'\\nfeatures'\u001b[0m\u001b[0;34m)\u001b[0m\u001b[0;34m\u001b[0m\u001b[0;34m\u001b[0m\u001b[0m\n\u001b[1;32m     30\u001b[0m \u001b[0mprint\u001b[0m\u001b[0;34m(\u001b[0m\u001b[0mdata\u001b[0m\u001b[0;34m)\u001b[0m\u001b[0;34m\u001b[0m\u001b[0;34m\u001b[0m\u001b[0m\n",
      "\u001b[0;32mh5py/_objects.pyx\u001b[0m in \u001b[0;36mh5py._objects.with_phil.wrapper\u001b[0;34m()\u001b[0m\n",
      "\u001b[0;32mh5py/_objects.pyx\u001b[0m in \u001b[0;36mh5py._objects.with_phil.wrapper\u001b[0;34m()\u001b[0m\n",
      "\u001b[0;32m~/opt/anaconda3/lib/python3.8/site-packages/h5py/_hl/group.py\u001b[0m in \u001b[0;36m__getitem__\u001b[0;34m(self, name)\u001b[0m\n\u001b[1;32m    262\u001b[0m                 \u001b[0;32mraise\u001b[0m \u001b[0mValueError\u001b[0m\u001b[0;34m(\u001b[0m\u001b[0;34m\"Invalid HDF5 object reference\"\u001b[0m\u001b[0;34m)\u001b[0m\u001b[0;34m\u001b[0m\u001b[0;34m\u001b[0m\u001b[0m\n\u001b[1;32m    263\u001b[0m         \u001b[0;32melse\u001b[0m\u001b[0;34m:\u001b[0m\u001b[0;34m\u001b[0m\u001b[0;34m\u001b[0m\u001b[0m\n\u001b[0;32m--> 264\u001b[0;31m             \u001b[0moid\u001b[0m \u001b[0;34m=\u001b[0m \u001b[0mh5o\u001b[0m\u001b[0;34m.\u001b[0m\u001b[0mopen\u001b[0m\u001b[0;34m(\u001b[0m\u001b[0mself\u001b[0m\u001b[0;34m.\u001b[0m\u001b[0mid\u001b[0m\u001b[0;34m,\u001b[0m \u001b[0mself\u001b[0m\u001b[0;34m.\u001b[0m\u001b[0m_e\u001b[0m\u001b[0;34m(\u001b[0m\u001b[0mname\u001b[0m\u001b[0;34m)\u001b[0m\u001b[0;34m,\u001b[0m \u001b[0mlapl\u001b[0m\u001b[0;34m=\u001b[0m\u001b[0mself\u001b[0m\u001b[0;34m.\u001b[0m\u001b[0m_lapl\u001b[0m\u001b[0;34m)\u001b[0m\u001b[0;34m\u001b[0m\u001b[0;34m\u001b[0m\u001b[0m\n\u001b[0m\u001b[1;32m    265\u001b[0m \u001b[0;34m\u001b[0m\u001b[0m\n\u001b[1;32m    266\u001b[0m         \u001b[0motype\u001b[0m \u001b[0;34m=\u001b[0m \u001b[0mh5i\u001b[0m\u001b[0;34m.\u001b[0m\u001b[0mget_type\u001b[0m\u001b[0;34m(\u001b[0m\u001b[0moid\u001b[0m\u001b[0;34m)\u001b[0m\u001b[0;34m\u001b[0m\u001b[0;34m\u001b[0m\u001b[0m\n",
      "\u001b[0;32m~/opt/anaconda3/lib/python3.8/site-packages/h5py/_hl/base.py\u001b[0m in \u001b[0;36m_e\u001b[0;34m(self, name, lcpl)\u001b[0m\n\u001b[1;32m    135\u001b[0m         \u001b[0;32melse\u001b[0m\u001b[0;34m:\u001b[0m\u001b[0;34m\u001b[0m\u001b[0;34m\u001b[0m\u001b[0m\n\u001b[1;32m    136\u001b[0m             \u001b[0;32mtry\u001b[0m\u001b[0;34m:\u001b[0m\u001b[0;34m\u001b[0m\u001b[0;34m\u001b[0m\u001b[0m\n\u001b[0;32m--> 137\u001b[0;31m                 \u001b[0mname\u001b[0m \u001b[0;34m=\u001b[0m \u001b[0mname\u001b[0m\u001b[0;34m.\u001b[0m\u001b[0mencode\u001b[0m\u001b[0;34m(\u001b[0m\u001b[0;34m'ascii'\u001b[0m\u001b[0;34m)\u001b[0m\u001b[0;34m\u001b[0m\u001b[0;34m\u001b[0m\u001b[0m\n\u001b[0m\u001b[1;32m    138\u001b[0m                 \u001b[0mcoding\u001b[0m \u001b[0;34m=\u001b[0m \u001b[0mh5t\u001b[0m\u001b[0;34m.\u001b[0m\u001b[0mCSET_ASCII\u001b[0m\u001b[0;34m\u001b[0m\u001b[0;34m\u001b[0m\u001b[0m\n\u001b[1;32m    139\u001b[0m             \u001b[0;32mexcept\u001b[0m \u001b[0mUnicodeEncodeError\u001b[0m\u001b[0;34m:\u001b[0m\u001b[0;34m\u001b[0m\u001b[0;34m\u001b[0m\u001b[0m\n",
      "\u001b[0;31mAttributeError\u001b[0m: 'tuple' object has no attribute 'encode'"
     ]
    }
   ],
   "source": [
    "data = np.array(group['indices'][()])\n",
    "print('\\nindices')\n",
    "print(data,data.shape)\n",
    "print(data[50000:51000])\n",
    "\n",
    "data = np.array(group['shape'][()])\n",
    "print('\\nshape')\n",
    "print(data,data.shape)\n",
    "print(data[:25])\n",
    "\n",
    "data = np.array(group['indptr'][()])\n",
    "print('\\nindptr')\n",
    "print(data,data.shape)\n",
    "print(data[:25])\n",
    "\n",
    "data = np.array(group['barcodes'][()])\n",
    "print('\\nbarcodes')\n",
    "print(data,data.shape)\n",
    "print(data[:25])\n",
    "\n",
    "data = np.array(group['data'][()])\n",
    "print('\\ndata')\n",
    "print(data,data.shape)\n",
    "print(data[:25])\n",
    "\n",
    "print(24356*7755)\n",
    "\n",
    "data = np.array(group['features'][()])\n",
    "print('\\nfeatures')\n",
    "print(data)"
   ]
  },
  {
   "cell_type": "code",
   "execution_count": 6,
   "metadata": {},
   "outputs": [],
   "source": [
    "import pandas as pd"
   ]
  },
  {
   "cell_type": "code",
   "execution_count": 7,
   "metadata": {},
   "outputs": [
    {
     "name": "stderr",
     "output_type": "stream",
     "text": [
      "Variable names are not unique. To make them unique, call `.var_names_make_unique`.\n",
      "Variable names are not unique. To make them unique, call `.var_names_make_unique`.\n"
     ]
    }
   ],
   "source": [
    "x = scanpy.read_10x_h5('GSM4502475_chicken_heart_scRNAseq_D4_filtered_feature_bc_matrix.h5')"
   ]
  },
  {
   "cell_type": "code",
   "execution_count": 8,
   "metadata": {},
   "outputs": [],
   "source": [
    "y = x.X.tocoo()\n",
    "# What is capital X?"
   ]
  },
  {
   "cell_type": "code",
   "execution_count": 9,
   "metadata": {},
   "outputs": [],
   "source": [
    "mtx = pd.DataFrame()\n",
    "mtx['x'] = pd.Series(y.row)\n",
    "mtx['y'] = pd.Series(y.col)\n",
    "mtx['z'] = pd.Series(y.data)"
   ]
  },
  {
   "cell_type": "code",
   "execution_count": 10,
   "metadata": {},
   "outputs": [],
   "source": [
    "mtx.to_csv('matrix.mtx',index=False,header=False,sep=' ')"
   ]
  },
  {
   "cell_type": "code",
   "execution_count": null,
   "metadata": {},
   "outputs": [],
   "source": []
  }
 ],
 "metadata": {
  "kernelspec": {
   "display_name": "Python 3",
   "language": "python",
   "name": "python3"
  },
  "language_info": {
   "codemirror_mode": {
    "name": "ipython",
    "version": 3
   },
   "file_extension": ".py",
   "mimetype": "text/x-python",
   "name": "python",
   "nbconvert_exporter": "python",
   "pygments_lexer": "ipython3",
   "version": "3.8.5"
  }
 },
 "nbformat": 4,
 "nbformat_minor": 4
}
