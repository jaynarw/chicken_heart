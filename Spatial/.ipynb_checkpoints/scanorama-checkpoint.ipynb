{
 "cells": [
  {
   "cell_type": "code",
   "execution_count": 24,
   "metadata": {},
   "outputs": [
    {
     "data": {
      "text/plain": [
       "[1] ‘3.2.2’"
      ]
     },
     "metadata": {},
     "output_type": "display_data"
    },
    {
     "ename": "ERROR",
     "evalue": "Error: one or more Python packages failed to install [error code 1]\n",
     "output_type": "error",
     "traceback": [
      "Error: one or more Python packages failed to install [error code 1]\nTraceback:\n",
      "1. conda_install(packages = \"scanorama\")",
      "2. stopf(fmt, result)",
      "3. stop(sprintf(fmt, ...), call. = call.)"
     ]
    }
   ],
   "source": [
    "# Preprocessing\n",
    "# Load the requisite packages and some additional helper functions.\n",
    "library(Seurat)\n",
    "packageVersion(\"Seurat\")\n",
    "library(Matrix)\n",
    "library(stringr)\n",
    "library(readr)\n",
    "library(here)\n",
    "library(fitdistrplus)\n",
    "library(dplyr)\n",
    "library(monocle)\n",
    "library(reticulate)\n",
    "setwd(\"/Users/kant/Desktop/CS690A/Project/Spatial\")\n",
    "conda_install('scanorama')"
   ]
  },
  {
   "cell_type": "code",
   "execution_count": 3,
   "metadata": {},
   "outputs": [
    {
     "data": {
      "text/html": [
       "<style>\n",
       ".list-inline {list-style: none; margin:0; padding: 0}\n",
       ".list-inline>li {display: inline-block}\n",
       ".list-inline>li:not(:last-child)::after {content: \"\\00b7\"; padding: 0 .5ex}\n",
       "</style>\n",
       "<ol class=list-inline><li>18797</li><li>22315</li></ol>\n"
      ],
      "text/latex": [
       "\\begin{enumerate*}\n",
       "\\item 18797\n",
       "\\item 22315\n",
       "\\end{enumerate*}\n"
      ],
      "text/markdown": [
       "1. 18797\n",
       "2. 22315\n",
       "\n",
       "\n"
      ],
      "text/plain": [
       "[1] 18797 22315"
      ]
     },
     "metadata": {},
     "output_type": "display_data"
    },
    {
     "data": {
      "text/plain": [
       "\n",
       "D10-LV D10-RV D14-LV D14-RV     D4  D7-LV  D7-RV \n",
       "  2763   2427   1335   1674   5653   4555   3908 "
      ]
     },
     "metadata": {},
     "output_type": "display_data"
    },
    {
     "data": {
      "text/html": [
       "'RNA'"
      ],
      "text/latex": [
       "'RNA'"
      ],
      "text/markdown": [
       "'RNA'"
      ],
      "text/plain": [
       "[1] \"RNA\""
      ]
     },
     "metadata": {},
     "output_type": "display_data"
    }
   ],
   "source": [
    "#load(file = \"cc.genes.rda\")\n",
    "samples = c(\"D4\", \"D7-LV\", \"D7-RV\", \"D10-LV\", \"D10-RV\", \"D14-LV\", \"D14-RV\")\n",
    "\n",
    "load(\"robjs/chicken_raw.Robj\")\n",
    "\n",
    "dim(chicken)\n",
    "table(chicken$orig.ident)\n",
    "DefaultAssay(chicken)"
   ]
  },
  {
   "cell_type": "code",
   "execution_count": 4,
   "metadata": {},
   "outputs": [],
   "source": [
    "# Function to extract expression values for individual datasets\n",
    "extractRNA_chicken <- function(seurat.object, sample_name){\n",
    "  return(t(as.matrix(GetAssayData(seurat.object)))[colnames(seurat.object)[seurat.object$orig.ident == sample_name],])\n",
    "}\n",
    "\n",
    "# Prepare datasets and gene lists for scanorama integration\n",
    "data = list(extractRNA_chicken(chicken, samples[1]), extractRNA_chicken(chicken, samples[2]), extractRNA_chicken(chicken, samples[3]), extractRNA_chicken(chicken, samples[4]), extractRNA_chicken(chicken, samples[5]), extractRNA_chicken(chicken, samples[6]), extractRNA_chicken(chicken, samples[7]))\n",
    "gene_list = list(rownames(chicken), rownames(chicken), rownames(chicken), rownames(chicken), rownames(chicken), rownames(chicken), rownames(chicken))\n",
    "\n",
    "\n",
    "# # Intregration starts here\n",
    "# scanorama = import('scanorama')\n",
    "# integrated.corrected.data = scanorama$correct(data, gene_list, return_dimred=TRUE, return_dense=TRUE, ds_names = samples, verbose = TRUE)\n",
    "\n",
    "# # save(integrated.corrected.data, file=\"robjs/corrected_SCT_counts_scano.Robj\")\n",
    "# # load(\"robjs/corrected_norm_scano.Robj\")\n",
    "\n",
    "# corrected_scanorama <- t(do.call(rbind, integrated.corrected.data[[2]]))\n",
    "# colnames(corrected_scanorama) <- colnames(chicken)\n",
    "# rownames(corrected_scanorama) <- integrated.corrected.data[[3]]\n",
    "# dim(corrected_scanorama)\n",
    "# corrected_scanorama_pca <- t(do.call(rbind, integrated.corrected.data[[1]]))\n",
    "# colnames(corrected_scanorama_pca) <- colnames(chicken)\n",
    "# dim(corrected_scanorama_pca)\n",
    "\n",
    "\n",
    "# # Create assay from integrated values and save to seurat object\n",
    "# scanorama_assay <- CreateAssayObject(data = corrected_scanorama)\n",
    "# chicken[[\"scanorama\"]] <- scanorama_assay\n",
    "# DefaultAssay(chicken) <- \"scanorama\"\n",
    "\n",
    "# # Preprocess scanorama values and perform PCA\n",
    "# DefaultAssay(chicken)\n",
    "# chicken <- FindVariableFeatures(chicken, assay = \"scanorama\", selection.method = \"vst\")\n",
    "# chicken <- ScaleData(chicken)\n",
    "# chicken <- RunPCA(object = chicken, assay = \"scanorama\", verbose = F, reduction.name = \"pca_scanorama\")\n",
    "\n",
    "# # Clustering and UMAP reduction on scanorama values\n",
    "# chicken <- FindNeighbors(object=chicken, assay = \"scanorama\", reduction = \"pca_scanorama\", dims = 1:20, k.param = 30, force.recalc = TRUE)\n",
    "# chicken <- FindClusters(object=chicken, resolution=0.5)\n",
    "# table(chicken$scanorama_snn_res.0.5)\n",
    "# # This command should give seventeen clusters to replicate the analysis\n",
    "# # table(chicken$scanorama_snn_res.0.5)\n",
    "# # 0    1    2    3    4    5    6    7    8    9   10   11   12   13   14   15   16 \n",
    "# # 3489 3487 2998 2272 1847 1844 1075 1053  790  741  686  615  471  352  265  264   66 \n",
    "\n",
    "# chicken <- RunUMAP(object = chicken, assay = \"scanorama\", reduction = \"pca_scanorama\", dims = 1:20, reduction.name = \"umap_scanorama\", metric = \"correlation\")\n",
    "\n",
    "# # To visualise\n",
    "# DimPlot(chicken, reduction = \"umap_scanorama\", label = TRUE, group.by = \"scanorama_snn_res.0.5\")\n",
    "# DimPlot(chicken, reduction = \"umap_scanorama\", group.by = \"orig.ident\")\n",
    "\n",
    "# # save(chicken, file=\"robjs/chicken_normalised_scanorama2.Robj\")\n",
    "# load(\"robjs/chicken_normalised_scanorama2.Robj\")\n",
    "\n",
    "\n",
    "# # Differnetial marker analysis\n",
    "# DefaultAssay(object = chicken) <- \"RNA\"\n",
    "# markers.all = FindAllMarkers(chicken, assay = \"RNA\", do.print = TRUE, logfc.threshold = 1.5, return.thresh = 0.1, min.pct = 0.5, only.pos = TRUE)\n",
    "# markers.top10 = markers.all %>% group_by(cluster) %>% top_n(10, avg_logFC)\n",
    "# markers.top20 = markers.all %>% group_by(cluster) %>% top_n(20, avg_logFC)\n",
    "\n",
    "\n",
    "# # Use differential marker analysis to label clusters with cell type names\n",
    "# Idents(chicken) <- chicken$scanorama_snn_res.0.5\n",
    "# DimPlot(object = chicken, reduction = \"umap\", label = TRUE)\n",
    "# chicken <- RenameIdents(chicken, `0` = \"Fibroblast cells\", `1` = \"Cardiomyocyte cells\", `2` = \"Myocardial progenitor cells\",\n",
    "#                                    `3` = \"Endothelial cells\", `4` = \"Cardiomyocyte precursor cells\", `5` = \"Endocardial valve cells\",\n",
    "#                                    `6` = \"TMSB4X high cells\",\n",
    "#                                    `7` = \"Epicardial progenitor cells-1\", `8` = \"Erythrocytes\", `9` = \"Vascular endothelial cells\", `10` = \"Erythrocytes\",\n",
    "#                                    `11` = \"Smooth muscle cells\", `12` = \"Epicardial progenitor cells-2\", `13` = \"Mitochondria enriched cardiomyocytes\", `14` = \"Macrophages\",\n",
    "#                                    `15` = \"Erythrocytes\", `16` = \"Dendritic cells\")\n",
    "# chicken$celltypes.0.5 <- Idents(chicken)\n",
    "\n",
    "# chicken.integrated <- chicken\n",
    "\n",
    "# # save(chicken.integrated, file = \"robjs/chicken_normalised_scanorama3.Robj\")\n",
    "# load(\"robjs/chicken_normalised_scanorama3.Robj\")\n",
    "\n",
    "# #############################  This section includes PHATE reduction for the entire dataset (optional) ####################\n",
    "\n",
    "# library(phateR)\n",
    "# data <- t(GetAssayData(chicken.integrated, assay = \"scanorama\", slot = \"data\"))\n",
    "# tree_chicken <- phate(data, gamma = 0)\n",
    "# chicken.integrated@reductions[[\"scanorama_phate_gamma0\"]] <- CreateDimReducObject(embeddings = tree_chicken$embedding, assay = \"scanorama\", key = \"PHATE\")\n",
    "# DimPlot(chicken.integrated, reduction = \"scanorama_phate_gamma0\", label = TRUE)\n",
    "# tree_chicken <- phate(data, gamma = 1)\n",
    "# chicken.integrated@reductions[[\"scanorama_phate_gamma1\"]] <- CreateDimReducObject(embeddings = tree_chicken$embedding, assay = \"scanorama\", key = \"PHATE\")\n",
    "# DimPlot(chicken.integrated, reduction = \"scanorama_phate_gamma1\")"
   ]
  },
  {
   "cell_type": "code",
   "execution_count": 21,
   "metadata": {},
   "outputs": [
    {
     "ename": "ERROR",
     "evalue": "Error in py_module_import(module, convert = convert): ImportError: dlopen(/Users/kant/Library/r-miniconda/envs/r-reticulate/lib/python3.6/site-packages/sklearn/__check_build/_check_build.cpython-36m-darwin.so, 2): Symbol not found: ____chkstk_darwin\n  Referenced from: /Users/kant/Library/r-miniconda/envs/r-reticulate/lib/python3.6/site-packages/sklearn/__check_build/../.dylibs/libomp.dylib (which was built for Mac OS X 10.15)\n  Expected in: /usr/lib/libSystem.B.dylib\n in /Users/kant/Library/r-miniconda/envs/r-reticulate/lib/python3.6/site-packages/sklearn/__check_build/../.dylibs/libomp.dylib\n___________________________________________________________________________\nContents of /Users/kant/Library/r-miniconda/envs/r-reticulate/lib/python3.6/site-packages/sklearn/__check_build:\n__init__.py               __pycache__               _check_build.cpython-36m-darwin.so\nsetup.py\n___________________________________________________________________________\nIt seems that scikit-learn has not been built correctly.\n\nIf you have installed scikit-learn from source, please do not forget\nto build the package before using it: run `python setup.py install` or\n`make` in the source directory.\n\nIf you have used an installer, please check that it is suited for your\nPython version, your operating system and your platform.\n\nDetailed traceback: \n  File \"/Library/Frameworks/R.framework/Versions/4.0/Resources/library/reticulate/python/rpytools/loader.py\", line 24, in _import_hook\n    level=level\n  File \"/Users/kant/Library/r-miniconda/envs/r-reticulate/lib/python3.6/site-packages/scanorama/__init__.py\", line 1, in <module>\n    from .scanorama import *\n  File \"/Library/Frameworks/R.framework/Versions/4.0/Resources/library/reticulate/python/rpytools/loader.py\", line 24, in _import_hook\n    level=level\n  File \"/Users/kant/Library/r-miniconda/envs/r-reticulate/lib/python3.6/site-packages/scanorama/scanorama.py\", line 9, in <module>\n    from sklearn.manifold import TSNE\n  File \"/Library/Frameworks/R.framework/Versions/4.0/Resources/library/reticulate/python/rpytools/loader.py\", line 24, in _import_hook\n    level=level\n  File \"/Users/kant/Library/r-miniconda/envs/r-reticulate/lib/python3.6/site-packages/sklearn/__init__.py\", line 81, in <module>\n    from . import __check_build  # noqa: F401\n  File \"/Library/Frameworks/R.framework/Versions/4.0/Resources/library/reticulate/python/rpytools/loader.py\", line 24, in _import_hook\n    level=level\n  File \"/Users/kant/Library/r-miniconda/envs/r-reticulate/lib/python3.6/site-packages/sklearn/__check_build/__init__.py\", line 46, in <module>\n    raise_build_error(e)\n  File \"/Users/kant/Library/r-miniconda/envs/r-reticulate/lib/python3.6/site-packages/sklearn/__check_build/__init__.py\", line 41, in raise_build_error\n    %s\"\"\" % (e, local_dir, ''.join(dir_content).strip(), msg))\n\n",
     "output_type": "error",
     "traceback": [
      "Error in py_module_import(module, convert = convert): ImportError: dlopen(/Users/kant/Library/r-miniconda/envs/r-reticulate/lib/python3.6/site-packages/sklearn/__check_build/_check_build.cpython-36m-darwin.so, 2): Symbol not found: ____chkstk_darwin\n  Referenced from: /Users/kant/Library/r-miniconda/envs/r-reticulate/lib/python3.6/site-packages/sklearn/__check_build/../.dylibs/libomp.dylib (which was built for Mac OS X 10.15)\n  Expected in: /usr/lib/libSystem.B.dylib\n in /Users/kant/Library/r-miniconda/envs/r-reticulate/lib/python3.6/site-packages/sklearn/__check_build/../.dylibs/libomp.dylib\n___________________________________________________________________________\nContents of /Users/kant/Library/r-miniconda/envs/r-reticulate/lib/python3.6/site-packages/sklearn/__check_build:\n__init__.py               __pycache__               _check_build.cpython-36m-darwin.so\nsetup.py\n___________________________________________________________________________\nIt seems that scikit-learn has not been built correctly.\n\nIf you have installed scikit-learn from source, please do not forget\nto build the package before using it: run `python setup.py install` or\n`make` in the source directory.\n\nIf you have used an installer, please check that it is suited for your\nPython version, your operating system and your platform.\n\nDetailed traceback: \n  File \"/Library/Frameworks/R.framework/Versions/4.0/Resources/library/reticulate/python/rpytools/loader.py\", line 24, in _import_hook\n    level=level\n  File \"/Users/kant/Library/r-miniconda/envs/r-reticulate/lib/python3.6/site-packages/scanorama/__init__.py\", line 1, in <module>\n    from .scanorama import *\n  File \"/Library/Frameworks/R.framework/Versions/4.0/Resources/library/reticulate/python/rpytools/loader.py\", line 24, in _import_hook\n    level=level\n  File \"/Users/kant/Library/r-miniconda/envs/r-reticulate/lib/python3.6/site-packages/scanorama/scanorama.py\", line 9, in <module>\n    from sklearn.manifold import TSNE\n  File \"/Library/Frameworks/R.framework/Versions/4.0/Resources/library/reticulate/python/rpytools/loader.py\", line 24, in _import_hook\n    level=level\n  File \"/Users/kant/Library/r-miniconda/envs/r-reticulate/lib/python3.6/site-packages/sklearn/__init__.py\", line 81, in <module>\n    from . import __check_build  # noqa: F401\n  File \"/Library/Frameworks/R.framework/Versions/4.0/Resources/library/reticulate/python/rpytools/loader.py\", line 24, in _import_hook\n    level=level\n  File \"/Users/kant/Library/r-miniconda/envs/r-reticulate/lib/python3.6/site-packages/sklearn/__check_build/__init__.py\", line 46, in <module>\n    raise_build_error(e)\n  File \"/Users/kant/Library/r-miniconda/envs/r-reticulate/lib/python3.6/site-packages/sklearn/__check_build/__init__.py\", line 41, in raise_build_error\n    %s\"\"\" % (e, local_dir, ''.join(dir_content).strip(), msg))\n\nTraceback:\n",
      "1. import(\"scanorama\")",
      "2. py_module_import(module, convert = convert)"
     ]
    }
   ],
   "source": [
    "# Intregration starts here\n",
    "use_condaenv(\"r-reticulate\")\n",
    "scanorama = import('scanorama')\n",
    "integrated.corrected.data = scanorama$correct(data, gene_list, return_dimred=TRUE, return_dense=TRUE, ds_names = samples, verbose = TRUE)\n",
    "\n",
    "# save(integrated.corrected.data, file=\"robjs/corrected_SCT_counts_scano.Robj\")\n",
    "# load(\"robjs/corrected_norm_scano.Robj\")\n",
    "\n",
    "corrected_scanorama <- t(do.call(rbind, integrated.corrected.data[[2]]))\n",
    "colnames(corrected_scanorama) <- colnames(chicken)\n",
    "rownames(corrected_scanorama) <- integrated.corrected.data[[3]]\n",
    "dim(corrected_scanorama)\n",
    "corrected_scanorama_pca <- t(do.call(rbind, integrated.corrected.data[[1]]))\n",
    "colnames(corrected_scanorama_pca) <- colnames(chicken)\n",
    "dim(corrected_scanorama_pca)\n",
    "\n",
    "\n",
    "# Create assay from integrated values and save to seurat object\n",
    "scanorama_assay <- CreateAssayObject(data = corrected_scanorama)\n",
    "chicken[[\"scanorama\"]] <- scanorama_assay\n",
    "DefaultAssay(chicken) <- \"scanorama\"\n",
    "\n",
    "# Preprocess scanorama values and perform PCA\n",
    "DefaultAssay(chicken)\n",
    "chicken <- FindVariableFeatures(chicken, assay = \"scanorama\", selection.method = \"vst\")\n",
    "chicken <- ScaleData(chicken)\n",
    "chicken <- RunPCA(object = chicken, assay = \"scanorama\", verbose = F, reduction.name = \"pca_scanorama\")\n",
    "\n",
    "# Clustering and UMAP reduction on scanorama values\n",
    "chicken <- FindNeighbors(object=chicken, assay = \"scanorama\", reduction = \"pca_scanorama\", dims = 1:20, k.param = 30, force.recalc = TRUE)\n",
    "chicken <- FindClusters(object=chicken, resolution=0.5)\n",
    "table(chicken$scanorama_snn_res.0.5)\n",
    "# This command should give seventeen clusters to replicate the analysis\n",
    "# table(chicken$scanorama_snn_res.0.5)\n",
    "# 0    1    2    3    4    5    6    7    8    9   10   11   12   13   14   15   16 \n",
    "# 3489 3487 2998 2272 1847 1844 1075 1053  790  741  686  615  471  352  265  264   66 \n",
    "\n",
    "chicken <- RunUMAP(object = chicken, assay = \"scanorama\", reduction = \"pca_scanorama\", dims = 1:20, reduction.name = \"umap_scanorama\", metric = \"correlation\")\n",
    "\n",
    "# To visualise\n",
    "DimPlot(chicken, reduction = \"umap_scanorama\", label = TRUE, group.by = \"scanorama_snn_res.0.5\")\n",
    "DimPlot(chicken, reduction = \"umap_scanorama\", group.by = \"orig.ident\")\n",
    "\n",
    "# save(chicken, file=\"robjs/chicken_normalised_scanorama2.Robj\")\n",
    "load(\"robjs/chicken_normalised_scanorama2.Robj\")\n",
    "\n",
    "\n",
    "# Differnetial marker analysis\n",
    "DefaultAssay(object = chicken) <- \"RNA\"\n",
    "markers.all = FindAllMarkers(chicken, assay = \"RNA\", do.print = TRUE, logfc.threshold = 1.5, return.thresh = 0.1, min.pct = 0.5, only.pos = TRUE)\n",
    "markers.top10 = markers.all %>% group_by(cluster) %>% top_n(10, avg_logFC)\n",
    "markers.top20 = markers.all %>% group_by(cluster) %>% top_n(20, avg_logFC)\n",
    "\n",
    "\n",
    "# Use differential marker analysis to label clusters with cell type names\n",
    "Idents(chicken) <- chicken$scanorama_snn_res.0.5\n",
    "DimPlot(object = chicken, reduction = \"umap\", label = TRUE)\n",
    "chicken <- RenameIdents(chicken, `0` = \"Fibroblast cells\", `1` = \"Cardiomyocyte cells\", `2` = \"Myocardial progenitor cells\",\n",
    "                                   `3` = \"Endothelial cells\", `4` = \"Cardiomyocyte precursor cells\", `5` = \"Endocardial valve cells\",\n",
    "                                   `6` = \"TMSB4X high cells\",\n",
    "                                   `7` = \"Epicardial progenitor cells-1\", `8` = \"Erythrocytes\", `9` = \"Vascular endothelial cells\", `10` = \"Erythrocytes\",\n",
    "                                   `11` = \"Smooth muscle cells\", `12` = \"Epicardial progenitor cells-2\", `13` = \"Mitochondria enriched cardiomyocytes\", `14` = \"Macrophages\",\n",
    "                                   `15` = \"Erythrocytes\", `16` = \"Dendritic cells\")\n",
    "chicken$celltypes.0.5 <- Idents(chicken)\n",
    "\n",
    "chicken.integrated <- chicken\n",
    "\n",
    "# save(chicken.integrated, file = \"robjs/chicken_normalised_scanorama3.Robj\")\n",
    "load(\"robjs/chicken_normalised_scanorama3.Robj\")\n",
    "\n",
    "# #############################  This section includes PHATE reduction for the entire dataset (optional) ####################\n",
    "\n",
    "# library(phateR)\n",
    "# data <- t(GetAssayData(chicken.integrated, assay = \"scanorama\", slot = \"data\"))\n",
    "# tree_chicken <- phate(data, gamma = 0)\n",
    "# chicken.integrated@reductions[[\"scanorama_phate_gamma0\"]] <- CreateDimReducObject(embeddings = tree_chicken$embedding, assay = \"scanorama\", key = \"PHATE\")\n",
    "# DimPlot(chicken.integrated, reduction = \"scanorama_phate_gamma0\", label = TRUE)\n",
    "# tree_chicken <- phate(data, gamma = 1)\n",
    "# chicken.integrated@reductions[[\"scanorama_phate_gamma1\"]] <- CreateDimReducObject(embeddings = tree_chicken$embedding, assay = \"scanorama\", key = \"PHATE\")\n",
    "# DimPlot(chicken.integrated, reduction = \"scanorama_phate_gamma1\")"
   ]
  },
  {
   "cell_type": "code",
   "execution_count": 17,
   "metadata": {},
   "outputs": [
    {
     "data": {
      "text/html": [
       "<table>\n",
       "<caption>A data.frame: 3 × 2</caption>\n",
       "<thead>\n",
       "\t<tr><th scope=col>name</th><th scope=col>python</th></tr>\n",
       "\t<tr><th scope=col>&lt;chr&gt;</th><th scope=col>&lt;chr&gt;</th></tr>\n",
       "</thead>\n",
       "<tbody>\n",
       "\t<tr><td>r-reticulate</td><td>/Users/kant/Library/r-miniconda/envs/r-reticulate/bin/python</td></tr>\n",
       "\t<tr><td>fslpython   </td><td>/Users/kant/fsl/fslpython/bin/python                        </td></tr>\n",
       "\t<tr><td>fslpython   </td><td>/Users/kant/fsl/fslpython/envs/fslpython/bin/python         </td></tr>\n",
       "</tbody>\n",
       "</table>\n"
      ],
      "text/latex": [
       "A data.frame: 3 × 2\n",
       "\\begin{tabular}{ll}\n",
       " name & python\\\\\n",
       " <chr> & <chr>\\\\\n",
       "\\hline\n",
       "\t r-reticulate & /Users/kant/Library/r-miniconda/envs/r-reticulate/bin/python\\\\\n",
       "\t fslpython    & /Users/kant/fsl/fslpython/bin/python                        \\\\\n",
       "\t fslpython    & /Users/kant/fsl/fslpython/envs/fslpython/bin/python         \\\\\n",
       "\\end{tabular}\n"
      ],
      "text/markdown": [
       "\n",
       "A data.frame: 3 × 2\n",
       "\n",
       "| name &lt;chr&gt; | python &lt;chr&gt; |\n",
       "|---|---|\n",
       "| r-reticulate | /Users/kant/Library/r-miniconda/envs/r-reticulate/bin/python |\n",
       "| fslpython    | /Users/kant/fsl/fslpython/bin/python                         |\n",
       "| fslpython    | /Users/kant/fsl/fslpython/envs/fslpython/bin/python          |\n",
       "\n"
      ],
      "text/plain": [
       "  name         python                                                      \n",
       "1 r-reticulate /Users/kant/Library/r-miniconda/envs/r-reticulate/bin/python\n",
       "2 fslpython    /Users/kant/fsl/fslpython/bin/python                        \n",
       "3 fslpython    /Users/kant/fsl/fslpython/envs/fslpython/bin/python         "
      ]
     },
     "metadata": {},
     "output_type": "display_data"
    }
   ],
   "source": [
    "conda_list()"
   ]
  },
  {
   "cell_type": "code",
   "execution_count": 26,
   "metadata": {},
   "outputs": [
    {
     "data": {
      "text/plain": [
       "python:         /Users/kant/Library/r-miniconda/envs/r-reticulate/bin/python\n",
       "libpython:      /Users/kant/Library/r-miniconda/envs/r-reticulate/lib/libpython3.6m.dylib\n",
       "pythonhome:     /Users/kant/Library/r-miniconda/envs/r-reticulate:/Users/kant/Library/r-miniconda/envs/r-reticulate\n",
       "version:        3.6.11 | packaged by conda-forge | (default, Nov 27 2020, 18:51:43)  [GCC Clang 11.0.0]\n",
       "numpy:          /Users/kant/Library/r-miniconda/envs/r-reticulate/lib/python3.6/site-packages/numpy\n",
       "numpy_version:  1.19.4"
      ]
     },
     "metadata": {},
     "output_type": "display_data"
    }
   ],
   "source": [
    "py_config()\n"
   ]
  },
  {
   "cell_type": "code",
   "execution_count": null,
   "metadata": {},
   "outputs": [],
   "source": []
  }
 ],
 "metadata": {
  "kernelspec": {
   "display_name": "R",
   "language": "R",
   "name": "ir"
  },
  "language_info": {
   "codemirror_mode": "r",
   "file_extension": ".r",
   "mimetype": "text/x-r-source",
   "name": "R",
   "pygments_lexer": "r",
   "version": "4.0.3"
  }
 },
 "nbformat": 4,
 "nbformat_minor": 2
}
